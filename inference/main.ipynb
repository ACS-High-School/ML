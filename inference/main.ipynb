{
 "cells": [
  {
   "cell_type": "code",
   "execution_count": null,
   "id": "a8d4885b-1a3b-4b01-974d-305808e44ad3",
   "metadata": {},
   "outputs": [],
   "source": [
    "import sagemaker\n",
    "from sagemaker import get_execution_role, image_uris\n",
    "\n",
    "import json\n",
    "import shutil\n",
    "import warnings\n",
    "\n",
    "import prepare_model\n",
    "import create_endpoint\n",
    "import test_endpoint"
   ]
  },
  {
   "cell_type": "code",
   "execution_count": null,
   "id": "cc0e6b72-33d4-412a-a6a8-1d1ec7cad741",
   "metadata": {},
   "outputs": [],
   "source": [
    "model_config = 'code_repo/model_config.json'\n",
    "\n",
    "with open(model_config, 'r') as config_file:\n",
    "    model_config = json.load(config_file)"
   ]
  },
  {
   "cell_type": "code",
   "execution_count": null,
   "id": "d1dd79ca-bf24-475b-aae6-95034f5ff89a",
   "metadata": {},
   "outputs": [],
   "source": [
    "bucket_name = model_config['bucket_name']\n",
    "weight_file_key = model_config['weight_file_key']\n",
    "\n",
    "model_name = model_config['model_name']\n",
    "model_version = model_config['model_version']\n",
    "\n",
    "local_file_name = './weights_file.npy'\n",
    "model_save_path = f'./models/{model_version}'\n",
    "model_tar_gz_key = f'{model_name}.tar.gz'\n",
    "\n",
    "\n",
    "# S3에서 가중치 다운로드\n",
    "prepare_model.download_weights_from_s3(bucket_name, weight_file_key, local_file_name)\n",
    "\n",
    "# 모델 설정 및 저장\n",
    "prepare_model.setup_and_save_model(local_file_name, model_save_path)\n",
    "\n",
    "# 모델을 tar.gz로 압축하고 S3로 업로드\n",
    "prepare_model.compress_and_upload_model_to_s3(model_save_path, f'./{model_name}/{model_version}', bucket_name, model_tar_gz_key)\n",
    "\n",
    "# tar.gz 파일이 생성된 후, 해당 디렉토리 삭제\n",
    "shutil.rmtree(model_name)"
   ]
  },
  {
   "cell_type": "code",
   "execution_count": null,
   "id": "aab98d0e-a08d-47ef-9f29-c5a16ab8c8ac",
   "metadata": {},
   "outputs": [],
   "source": [
    "sagemaker_session = sagemaker.Session()\n",
    "region = sagemaker_session.boto_region_name\n",
    "role = get_execution_role()\n",
    "\n",
    "\n",
    "# 이미지 URI 검색\n",
    "container = create_endpoint.retrieve_container_image(region=region, \n",
    "                                     framework='tensorflow', \n",
    "                                     version='2.13.0', \n",
    "                                     instance_type='ml.m5.large')\n",
    "\n",
    "# 모델 객체 생성\n",
    "model = create_endpoint.create_model(container=container, \n",
    "                     s3_bucket=bucket_name, \n",
    "                     model_s3_key=model_tar_gz_key, \n",
    "                     role=role)\n",
    "\n",
    "# 엔드포인트 이름 생성 및 모델 배포\n",
    "endpoint_name = create_endpoint.create_endpoint_name()\n",
    "predictor = create_endpoint.deploy_model(model=model, \n",
    "                         instance_type='ml.m5.large', \n",
    "                         initial_instance_count=1, \n",
    "                         endpoint_name=endpoint_name)"
   ]
  },
  {
   "cell_type": "code",
   "execution_count": null,
   "id": "e0e32fd8-84b0-446d-9388-1791a84e5d6f",
   "metadata": {},
   "outputs": [],
   "source": [
    "# 엔드포인트 불러와서 테스트\n",
    "test_endpoint.test_inference(endpoint_name=endpoint_name, num_samples=5)"
   ]
  },
  {
   "cell_type": "code",
   "execution_count": null,
   "id": "d19243c4-21bd-40ec-b908-84ccad9cdfd6",
   "metadata": {},
   "outputs": [],
   "source": [
    "# 엔드포인트 삭제할 경우\n",
    "sagemaker_session.delete_endpoint(endpoint_name)"
   ]
  }
 ],
 "metadata": {
  "kernelspec": {
   "display_name": "Python 3 (ipykernel)",
   "language": "python",
   "name": "python3"
  },
  "language_info": {
   "codemirror_mode": {
    "name": "ipython",
    "version": 3
   },
   "file_extension": ".py",
   "mimetype": "text/x-python",
   "name": "python",
   "nbconvert_exporter": "python",
   "pygments_lexer": "ipython3",
   "version": "3.10.13"
  }
 },
 "nbformat": 4,
 "nbformat_minor": 5
}
